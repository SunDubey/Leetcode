{
  "nbformat": 4,
  "nbformat_minor": 0,
  "metadata": {
    "colab": {
      "name": "1551. Minimum Operations to Make Array Equal.ipynb",
      "provenance": [],
      "authorship_tag": "ABX9TyM/aRa81Nq64kZlMInrL/DM",
      "include_colab_link": true
    },
    "kernelspec": {
      "name": "python3",
      "display_name": "Python 3"
    }
  },
  "cells": [
    {
      "cell_type": "markdown",
      "metadata": {
        "id": "view-in-github",
        "colab_type": "text"
      },
      "source": [
        "<a href=\"https://colab.research.google.com/github/SunDubey/Leetcode/blob/main/1551_Minimum_Operations_to_Make_Array_Equal.ipynb\" target=\"_parent\"><img src=\"https://colab.research.google.com/assets/colab-badge.svg\" alt=\"Open In Colab\"/></a>"
      ]
    },
    {
      "cell_type": "markdown",
      "metadata": {
        "id": "Jsl6APukqeqX"
      },
      "source": [
        "You have an array arr of length n where arr[i] = (2 * i) + 1 for all valid values of i (i.e. 0 <= i < n).\r\n",
        "\r\n",
        "In one operation, you can select two indices x and y where 0 <= x, y < n and subtract 1 from arr[x] and add 1 to arr[y] (i.e. perform arr[x] -=1 and arr[y] += 1). The goal is to make all the elements of the array equal. It is guaranteed that all the elements of the array can be made equal using some operations.\r\n",
        "\r\n",
        "Given an integer n, the length of the array. Return the minimum number of operations needed to make all the elements of arr equal.\r\n",
        "\r\n",
        " \r\n",
        "\r\n",
        "Example 1:\r\n",
        "\r\n",
        "Input: n = 3\r\n",
        "Output: 2\r\n",
        "Explanation: arr = [1, 3, 5]\r\n",
        "First operation choose x = 2 and y = 0, this leads arr to be [2, 3, 4]\r\n",
        "In the second operation choose x = 2 and y = 0 again, thus arr = [3, 3, 3].\r\n",
        "\r\n",
        "Example 2:\r\n",
        "\r\n",
        "Input: n = 6\r\n",
        "Output: 9\r\n",
        "\r\n",
        " \r\n",
        "\r\n",
        "Constraints:\r\n",
        "\r\n",
        "    1 <= n <= 10^4\r\n"
      ]
    },
    {
      "cell_type": "code",
      "metadata": {
        "id": "gqIRydJCqkyx"
      },
      "source": [
        "class Solution:\r\n",
        "    def minOperations(self, n: int) -> int:\r\n",
        "        min = 1\r\n",
        "        max = (2*(n-1))+1\r\n",
        "        median = ((min+max)/2)\r\n",
        "        ops = 0\r\n",
        "        for i in range(0,int(n/2)):\r\n",
        "            ops = ops + abs(((2*i)+1)-median)\r\n",
        "        return int(ops)\r\n",
        " "
      ],
      "execution_count": null,
      "outputs": []
    }
  ]
}