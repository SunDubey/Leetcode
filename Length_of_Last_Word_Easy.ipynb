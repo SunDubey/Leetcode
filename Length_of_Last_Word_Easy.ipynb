{
  "nbformat": 4,
  "nbformat_minor": 0,
  "metadata": {
    "colab": {
      "name": "Length of Last Word Easy.ipynb",
      "provenance": [],
      "authorship_tag": "ABX9TyMaCKjT0tiu3+41pUGi7mMd",
      "include_colab_link": true
    },
    "kernelspec": {
      "name": "python3",
      "display_name": "Python 3"
    }
  },
  "cells": [
    {
      "cell_type": "markdown",
      "metadata": {
        "id": "view-in-github",
        "colab_type": "text"
      },
      "source": [
        "<a href=\"https://colab.research.google.com/github/SunDubey/Leetcode/blob/main/Length_of_Last_Word_Easy.ipynb\" target=\"_parent\"><img src=\"https://colab.research.google.com/assets/colab-badge.svg\" alt=\"Open In Colab\"/></a>"
      ]
    },
    {
      "cell_type": "markdown",
      "metadata": {
        "id": "c7qBiP8gzpX1"
      },
      "source": [
        "58. Length of Last Word\r\n",
        "Easy\r\n",
        "\r\n",
        "Given a string s consists of some words separated by spaces, return the length of the last word in the string. If the last word does not exist, return 0.\r\n",
        "\r\n",
        "A word is a maximal substring consisting of non-space characters only.\r\n",
        "\r\n",
        " \r\n",
        "\r\n",
        "Example 1:\r\n",
        "\r\n",
        "Input: s = \"Hello World\"\r\n",
        "Output: 5\r\n",
        "\r\n",
        "Example 2:\r\n",
        "\r\n",
        "Input: s = \" \"\r\n",
        "Output: 0\r\n",
        "\r\n",
        " \r\n",
        "\r\n",
        "Constraints:\r\n",
        "\r\n",
        "    1 <= s.length <= 104\r\n",
        "    s consists of only English letters and spaces ' '.\r\n",
        "\r\n"
      ]
    },
    {
      "cell_type": "code",
      "metadata": {
        "id": "miQ9FWxUzq1V"
      },
      "source": [
        "class Solution:\r\n",
        "    def lengthOfLastWord(self, s: str) -> int:\r\n",
        "        if(len(s.split())==0):\r\n",
        "            return 0\r\n",
        "        else:\r\n",
        "            l = s.split()\r\n",
        "            if(len(l[-1])>0):\r\n",
        "                return len(l[-1])\r\n",
        "        "
      ],
      "execution_count": null,
      "outputs": []
    }
  ]
}