{
  "nbformat": 4,
  "nbformat_minor": 0,
  "metadata": {
    "colab": {
      "name": "7. Reverse Integer.ipynb",
      "provenance": [],
      "authorship_tag": "ABX9TyP74aF8kRrVqPYzRnoHKHER",
      "include_colab_link": true
    },
    "kernelspec": {
      "name": "python3",
      "display_name": "Python 3"
    }
  },
  "cells": [
    {
      "cell_type": "markdown",
      "metadata": {
        "id": "view-in-github",
        "colab_type": "text"
      },
      "source": [
        "<a href=\"https://colab.research.google.com/github/SunDubey/Leetcode/blob/main/7_Reverse_Integer.ipynb\" target=\"_parent\"><img src=\"https://colab.research.google.com/assets/colab-badge.svg\" alt=\"Open In Colab\"/></a>"
      ]
    },
    {
      "cell_type": "markdown",
      "metadata": {
        "id": "D5H_vVii9Opc"
      },
      "source": [
        "Given a signed 32-bit integer x, return x with its digits reversed. If reversing x causes the value to go outside the signed 32-bit integer range [-231, 231 - 1], then return 0.\r\n",
        "\r\n",
        "Assume the environment does not allow you to store 64-bit integers (signed or unsigned).\r\n",
        "\r\n",
        " \r\n",
        "\r\n",
        "Example 1:\r\n",
        "\r\n",
        "Input: x = 123\r\n",
        "Output: 321\r\n",
        "\r\n",
        "Example 2:\r\n",
        "\r\n",
        "Input: x = -123\r\n",
        "Output: -321\r\n",
        "\r\n",
        "Example 3:\r\n",
        "\r\n",
        "Input: x = 120\r\n",
        "Output: 21\r\n",
        "\r\n",
        "Example 4:\r\n",
        "\r\n",
        "Input: x = 0\r\n",
        "Output: 0\r\n"
      ]
    },
    {
      "cell_type": "code",
      "metadata": {
        "id": "qhEDCbhNoT0j"
      },
      "source": [
        "class Solution:\r\n",
        "    def reverse(self, n: int) -> int:\r\n",
        "        rev = \"\"\r\n",
        "        if(n<0):\r\n",
        "            neg = 1\r\n",
        "            n = abs(n)\r\n",
        "        else:\r\n",
        "            neg=0\r\n",
        "        while(n!=0):\r\n",
        "            rem = int(n%10)\r\n",
        "            n = int(n/10)\r\n",
        "            rev = rev + str(rem)\r\n",
        "        if(rev==\"\"):\r\n",
        "            rev = 0\r\n",
        "        else:\r\n",
        "            rev = int(rev)\r\n",
        "        if( (rev < int(math.pow(-2,31)) ) or ( rev > int((math.pow(2,31)-1)) ) or rev==0 ):\r\n",
        "            return 0\r\n",
        "        else:\r\n",
        "            if(neg==1):\r\n",
        "                rev = '-'+str(rev)\r\n",
        "                return int(rev)\r\n",
        "            else:\r\n",
        "                return rev  "
      ],
      "execution_count": 34,
      "outputs": []
    },
    {
      "cell_type": "code",
      "metadata": {
        "id": "ATLAgpIo0-la"
      },
      "source": [
        "\r\n"
      ],
      "execution_count": null,
      "outputs": []
    }
  ]
}