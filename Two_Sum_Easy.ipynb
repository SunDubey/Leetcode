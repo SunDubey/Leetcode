{
  "nbformat": 4,
  "nbformat_minor": 0,
  "metadata": {
    "colab": {
      "name": "Two Sum Easy.ipynb",
      "provenance": [],
      "authorship_tag": "ABX9TyMCveWBnKnmIVv4A+hGCfZ5",
      "include_colab_link": true
    },
    "kernelspec": {
      "name": "python3",
      "display_name": "Python 3"
    }
  },
  "cells": [
    {
      "cell_type": "markdown",
      "metadata": {
        "id": "view-in-github",
        "colab_type": "text"
      },
      "source": [
        "<a href=\"https://colab.research.google.com/github/SunDubey/Leetcode/blob/main/Two_Sum_Easy.ipynb\" target=\"_parent\"><img src=\"https://colab.research.google.com/assets/colab-badge.svg\" alt=\"Open In Colab\"/></a>"
      ]
    },
    {
      "cell_type": "markdown",
      "metadata": {
        "id": "maU1GrmEg2kC"
      },
      "source": [
        "1. Two Sum\r\n",
        "Easy\r\n",
        "\r\n",
        "Given an array of integers nums and an integer target, return indices of the two numbers such that they add up to target.\r\n",
        "\r\n",
        "You may assume that each input would have exactly one solution, and you may not use the same element twice.\r\n",
        "\r\n",
        "You can return the answer in any order.\r\n",
        "\r\n",
        " \r\n",
        "\r\n",
        "Example 1:\r\n",
        "\r\n",
        "Input: nums = [2,7,11,15], target = 9\r\n",
        "Output: [0,1]\r\n",
        "Output: Because nums[0] + nums[1] == 9, we return [0, 1].\r\n",
        "\r\n",
        "Example 2:\r\n",
        "\r\n",
        "Input: nums = [3,2,4], target = 6\r\n",
        "Output: [1,2]\r\n",
        "\r\n",
        "Example 3:\r\n",
        "\r\n",
        "Input: nums = [3,3], target = 6\r\n",
        "Output: [0,1]\r\n"
      ]
    },
    {
      "cell_type": "code",
      "metadata": {
        "id": "2aRzpDoaVl4P"
      },
      "source": [
        "def twoSum(nums, target):\r\n",
        "        sum = 0 \r\n",
        "        for i in range(len(nums)-1):\r\n",
        "            for j in range(i+1,len(nums)):\r\n",
        "                sum = nums[i]+nums[j]\r\n",
        "                if(sum == target):\r\n",
        "                  print(sum)\r\n",
        "                \r\n"
      ],
      "execution_count": 28,
      "outputs": []
    }
  ]
}