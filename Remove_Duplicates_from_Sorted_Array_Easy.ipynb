{
  "nbformat": 4,
  "nbformat_minor": 0,
  "metadata": {
    "colab": {
      "name": "Remove Duplicates from Sorted Array Easy.ipynb",
      "provenance": [],
      "authorship_tag": "ABX9TyPJE734xNbNxlY20+qhm/Lk",
      "include_colab_link": true
    },
    "kernelspec": {
      "name": "python3",
      "display_name": "Python 3"
    }
  },
  "cells": [
    {
      "cell_type": "markdown",
      "metadata": {
        "id": "view-in-github",
        "colab_type": "text"
      },
      "source": [
        "<a href=\"https://colab.research.google.com/github/SunDubey/Leetcode/blob/main/Remove_Duplicates_from_Sorted_Array_Easy.ipynb\" target=\"_parent\"><img src=\"https://colab.research.google.com/assets/colab-badge.svg\" alt=\"Open In Colab\"/></a>"
      ]
    },
    {
      "cell_type": "markdown",
      "metadata": {
        "id": "0uVN-m-4F8Np"
      },
      "source": [
        "26. Remove Duplicates from Sorted Array\r\n",
        "Easy\r\n",
        "\r\n",
        "Given a sorted array nums, remove the duplicates in-place such that each element appears only once and returns the new length.\r\n",
        "\r\n",
        "Do not allocate extra space for another array, you must do this by modifying the input array in-place with O(1) extra memory.\r\n",
        "\r\n",
        "Clarification:\r\n",
        "\r\n",
        "Confused why the returned value is an integer but your answer is an array?\r\n",
        "\r\n",
        "Note that the input array is passed in by reference, which means a modification to the input array will be known to the caller as well.\r\n",
        "\r\n",
        "Internally you can think of this:\r\n",
        "\r\n",
        "// nums is passed in by reference. (i.e., without making a copy)\r\n",
        "int len = removeDuplicates(nums);\r\n",
        "\r\n",
        "// any modification to nums in your function would be known by the caller.\r\n",
        "// using the length returned by your function, it prints the first len elements.\r\n",
        "for (int i = 0; i < len; i++) {\r\n",
        "    print(nums[i]);\r\n",
        "}\r\n",
        "\r\n",
        " \r\n",
        "\r\n",
        "Example 1:\r\n",
        "\r\n",
        "Input: nums = [1,1,2]\r\n",
        "Output: 2, nums = [1,2]\r\n",
        "Explanation: Your function should return length = 2, with the first two elements of nums being 1 and 2 respectively. It doesn't matter what you leave beyond the returned length.\r\n",
        "\r\n",
        "Example 2:\r\n",
        "\r\n",
        "Input: nums = [0,0,1,1,1,2,2,3,3,4]\r\n",
        "Output: 5, nums = [0,1,2,3,4]\r\n",
        "Explanation: Your function should return length = 5, with the first five elements of nums being modified to 0, 1, 2, 3, and 4 respectively. It doesn't matter what values are set beyond the returned length.\r\n"
      ]
    },
    {
      "cell_type": "code",
      "metadata": {
        "id": "A5hjCy8Yb-nz"
      },
      "source": [
        "class Solution:\r\n",
        "    def removeDuplicates(self, nums: List[int]) -> int:\r\n",
        "        i = 0\r\n",
        "        while(i< (len(nums)-1)):\r\n",
        "            if(nums[i]==nums[i+1]):\r\n",
        "                nums.pop(i)\r\n",
        "            else:\r\n",
        "                i=i+1\r\n",
        "                            "
      ],
      "execution_count": null,
      "outputs": []
    }
  ]
}