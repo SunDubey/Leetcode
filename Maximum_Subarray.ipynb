{
  "nbformat": 4,
  "nbformat_minor": 0,
  "metadata": {
    "colab": {
      "name": "Maximum Subarray.ipynb",
      "provenance": []
    },
    "kernelspec": {
      "name": "python3",
      "display_name": "Python 3"
    }
  },
  "cells": [
    {
      "cell_type": "markdown",
      "metadata": {
        "id": "zOm_D3bsHHAi"
      },
      "source": [
        "Given an integer array nums, find the contiguous subarray (containing at least one number) which has the largest sum and return its sum.\r\n",
        "\r\n",
        " \r\n",
        "\r\n",
        "Example 1:\r\n",
        "\r\n",
        "Input: nums = [-2,1,-3,4,-1,2,1,-5,4]\r\n",
        "Output: 6\r\n",
        "Explanation: [4,-1,2,1] has the largest sum = 6.\r\n",
        "\r\n",
        "Example 2:\r\n",
        "\r\n",
        "Input: nums = [1]\r\n",
        "Output: 1\r\n",
        "\r\n",
        "Example 3:\r\n",
        "\r\n",
        "Input: nums = [0]\r\n",
        "Output: 0\r\n",
        "\r\n",
        "Example 4:\r\n",
        "\r\n",
        "Input: nums = [-1]\r\n",
        "Output: -1\r\n",
        "\r\n",
        "Example 5:\r\n",
        "\r\n",
        "Input: nums = [-100000]\r\n",
        "Output: -100000\r\n",
        "\r\n",
        " \r\n",
        "\r\n",
        "Constraints:\r\n",
        "\r\n",
        "    1 <= nums.length <= 3 * 104\r\n",
        "    -105 <= nums[i] <= 105\r\n"
      ]
    },
    {
      "cell_type": "code",
      "metadata": {
        "colab": {
          "base_uri": "https://localhost:8080/"
        },
        "id": "9y8_pOpWHHjj",
        "outputId": "e3b09dee-e26c-4501-f715-5ad1b7e8e8ce"
      },
      "source": [
        "class Solution:\r\n",
        "    def maxSubArray(self, nums: List[int]) -> int:\r\n",
        "        max_so_far =0 \r\n",
        "        max_end_here=0\r\n",
        "        ispos = 0\r\n",
        "        if(len(nums)>0):\r\n",
        "            max = nums[0]\r\n",
        "            \r\n",
        "        for i in range(len(nums)):\r\n",
        "            if(nums[i]>0):\r\n",
        "                ispos=1\r\n",
        "            elif(nums[i]>max):\r\n",
        "                max=nums[i]\r\n",
        "                    \r\n",
        "            max_end_here = max_end_here + nums[i]\r\n",
        "            if(max_so_far<max_end_here):\r\n",
        "                max_so_far = max_end_here\r\n",
        "            elif(max_end_here<0):\r\n",
        "                max_end_here = 0\r\n",
        "            \r\n",
        "        if(ispos==0):\r\n",
        "            return max\r\n",
        "        else:\r\n",
        "            return max_so_far\r\n"
      ],
      "execution_count": 4,
      "outputs": [
        {
          "output_type": "stream",
          "text": [
            "6\n"
          ],
          "name": "stdout"
        }
      ]
    },
    {
      "cell_type": "code",
      "metadata": {
        "id": "kc9v9OouLUQs"
      },
      "source": [
        ""
      ],
      "execution_count": null,
      "outputs": []
    }
  ]
}